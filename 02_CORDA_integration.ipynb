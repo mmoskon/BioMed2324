{
 "cells": [
  {
   "cell_type": "code",
   "execution_count": 1,
   "metadata": {
    "ExecuteTime": {
     "end_time": "2023-04-19T07:11:44.108119Z",
     "start_time": "2023-04-19T07:11:36.469033Z"
    }
   },
   "outputs": [],
   "source": [
    "import pandas as pd\n",
    "import cobra\n",
    "\n",
    "from cobra.io import load_model\n",
    "\n",
    "import numpy as np\n",
    "import pickle\n",
    "\n",
    "import os.path"
   ]
  },
  {
   "cell_type": "markdown",
   "metadata": {},
   "source": [
    "Ponovno preberemo model Recon3D:"
   ]
  },
  {
   "cell_type": "code",
   "execution_count": 2,
   "metadata": {
    "ExecuteTime": {
     "end_time": "2023-04-19T07:13:04.074549Z",
     "start_time": "2023-04-19T07:12:13.120009Z"
    }
   },
   "outputs": [],
   "source": [
    "model = cobra.io.read_sbml_model(os.path.join('models','Recon3D.xml'))"
   ]
  },
  {
   "cell_type": "markdown",
   "metadata": {},
   "source": [
    "Pripravimo si slovarja `id gena` --> `ime gena` in obratno:"
   ]
  },
  {
   "cell_type": "code",
   "execution_count": 3,
   "metadata": {
    "ExecuteTime": {
     "end_time": "2023-04-19T07:13:07.234685Z",
     "start_time": "2023-04-19T07:13:07.194738Z"
    }
   },
   "outputs": [],
   "source": [
    "gene_id_name = {} # seznam ID genov\n",
    "gene_name_id = {} # seznam imen genov\n",
    "\n",
    "for g in model.genes[1:]:\n",
    "    gene_id_name[g.id] = g.name\n",
    "    gene_name_id[g.name] = g.id"
   ]
  },
  {
   "cell_type": "code",
   "execution_count": 4,
   "metadata": {
    "ExecuteTime": {
     "end_time": "2023-04-19T07:16:00.807536Z",
     "start_time": "2023-04-19T07:16:00.757847Z"
    },
    "collapsed": false,
    "jupyter": {
     "outputs_hidden": false
    }
   },
   "outputs": [
    {
     "data": {
      "text/plain": [
       "[('26_AT1', 'AOC1'),\n",
       " ('314_AT1', 'AOC2'),\n",
       " ('8639_AT1', 'AOC3'),\n",
       " ('314_AT2', 'AOC2'),\n",
       " ('1591_AT1', 'CYP24A1')]"
      ]
     },
     "execution_count": 4,
     "metadata": {},
     "output_type": "execute_result"
    }
   ],
   "source": [
    "list(gene_id_name.items())[:5] # prvih 5 elementov v slovarju, ki ID gena poveže z imenom"
   ]
  },
  {
   "cell_type": "code",
   "execution_count": 5,
   "metadata": {
    "ExecuteTime": {
     "end_time": "2023-04-19T07:16:35.854273Z",
     "start_time": "2023-04-19T07:16:35.830838Z"
    },
    "collapsed": false,
    "jupyter": {
     "outputs_hidden": false
    }
   },
   "outputs": [
    {
     "data": {
      "text/plain": [
       "[('AOC1', '26_AT1'),\n",
       " ('AOC2', '314_AT2'),\n",
       " ('AOC3', '8639_AT1'),\n",
       " ('CYP24A1', '1591_AT1'),\n",
       " ('CYP27B1', '1594_AT1')]"
      ]
     },
     "execution_count": 5,
     "metadata": {},
     "output_type": "execute_result"
    }
   ],
   "source": [
    "list(gene_name_id.items())[:5] # prvih 5 elementov v slovarju, ki ime gena poveže z ID"
   ]
  },
  {
   "cell_type": "markdown",
   "metadata": {},
   "source": [
    "Preberimo podatke, ki smo jih prej shranili:"
   ]
  },
  {
   "cell_type": "code",
   "execution_count": 6,
   "metadata": {},
   "outputs": [],
   "source": [
    "df_control = pd.read_csv(os.path.join('data','data_control.txt'))\n",
    "df_kd = pd.read_csv(os.path.join('data','data_kd.txt'))"
   ]
  },
  {
   "cell_type": "markdown",
   "metadata": {},
   "source": [
    "Imenom genov pripišimo še ustrezne ID-je:"
   ]
  },
  {
   "cell_type": "code",
   "execution_count": 7,
   "metadata": {},
   "outputs": [],
   "source": [
    "df_control['gene_id'] = df_control['gene'].map(lambda x: gene_name_id[x] if x in gene_name_id else \"\")\n",
    "df_kd['gene_id'] = df_kd['gene'].map(lambda x: gene_name_id[x] if x in gene_name_id else \"\")"
   ]
  },
  {
   "cell_type": "code",
   "execution_count": 8,
   "metadata": {},
   "outputs": [
    {
     "data": {
      "text/html": [
       "<div>\n",
       "<style scoped>\n",
       "    .dataframe tbody tr th:only-of-type {\n",
       "        vertical-align: middle;\n",
       "    }\n",
       "\n",
       "    .dataframe tbody tr th {\n",
       "        vertical-align: top;\n",
       "    }\n",
       "\n",
       "    .dataframe thead th {\n",
       "        text-align: right;\n",
       "    }\n",
       "</style>\n",
       "<table border=\"1\" class=\"dataframe\">\n",
       "  <thead>\n",
       "    <tr style=\"text-align: right;\">\n",
       "      <th></th>\n",
       "      <th>gene</th>\n",
       "      <th>value</th>\n",
       "      <th>gene_id</th>\n",
       "    </tr>\n",
       "  </thead>\n",
       "  <tbody>\n",
       "    <tr>\n",
       "      <th>0</th>\n",
       "      <td>OR4F5</td>\n",
       "      <td>6.13</td>\n",
       "      <td></td>\n",
       "    </tr>\n",
       "    <tr>\n",
       "      <th>1</th>\n",
       "      <td>SAMD11</td>\n",
       "      <td>6.97</td>\n",
       "      <td></td>\n",
       "    </tr>\n",
       "    <tr>\n",
       "      <th>2</th>\n",
       "      <td>KLHL17</td>\n",
       "      <td>7.10</td>\n",
       "      <td></td>\n",
       "    </tr>\n",
       "    <tr>\n",
       "      <th>3</th>\n",
       "      <td>PLEKHN1</td>\n",
       "      <td>5.51</td>\n",
       "      <td></td>\n",
       "    </tr>\n",
       "    <tr>\n",
       "      <th>4</th>\n",
       "      <td>ISG15</td>\n",
       "      <td>6.26</td>\n",
       "      <td></td>\n",
       "    </tr>\n",
       "    <tr>\n",
       "      <th>...</th>\n",
       "      <td>...</td>\n",
       "      <td>...</td>\n",
       "      <td>...</td>\n",
       "    </tr>\n",
       "    <tr>\n",
       "      <th>21443</th>\n",
       "      <td>PCYT1A</td>\n",
       "      <td>12.46</td>\n",
       "      <td>5130_AT1</td>\n",
       "    </tr>\n",
       "    <tr>\n",
       "      <th>21444</th>\n",
       "      <td>CFHR2</td>\n",
       "      <td>6.13</td>\n",
       "      <td></td>\n",
       "    </tr>\n",
       "    <tr>\n",
       "      <th>21445</th>\n",
       "      <td>DUX5</td>\n",
       "      <td>5.13</td>\n",
       "      <td></td>\n",
       "    </tr>\n",
       "    <tr>\n",
       "      <th>21446</th>\n",
       "      <td>DUX3</td>\n",
       "      <td>4.39</td>\n",
       "      <td></td>\n",
       "    </tr>\n",
       "    <tr>\n",
       "      <th>21447</th>\n",
       "      <td>DUX1</td>\n",
       "      <td>6.61</td>\n",
       "      <td></td>\n",
       "    </tr>\n",
       "  </tbody>\n",
       "</table>\n",
       "<p>21448 rows × 3 columns</p>\n",
       "</div>"
      ],
      "text/plain": [
       "          gene  value   gene_id\n",
       "0        OR4F5   6.13          \n",
       "1       SAMD11   6.97          \n",
       "2       KLHL17   7.10          \n",
       "3      PLEKHN1   5.51          \n",
       "4        ISG15   6.26          \n",
       "...        ...    ...       ...\n",
       "21443   PCYT1A  12.46  5130_AT1\n",
       "21444    CFHR2   6.13          \n",
       "21445     DUX5   5.13          \n",
       "21446     DUX3   4.39          \n",
       "21447     DUX1   6.61          \n",
       "\n",
       "[21448 rows x 3 columns]"
      ]
     },
     "execution_count": 8,
     "metadata": {},
     "output_type": "execute_result"
    }
   ],
   "source": [
    "df_control"
   ]
  },
  {
   "cell_type": "markdown",
   "metadata": {},
   "source": [
    "Ohranimo samo tiste vnose, ki jih imamo v modelu:"
   ]
  },
  {
   "cell_type": "code",
   "execution_count": 9,
   "metadata": {},
   "outputs": [],
   "source": [
    "df_control = df_control[df_control['gene_id'] != \"\"]\n",
    "df_kd = df_kd[df_kd['gene_id'] != \"\"]"
   ]
  },
  {
   "cell_type": "code",
   "execution_count": 10,
   "metadata": {},
   "outputs": [
    {
     "data": {
      "text/plain": [
       "(2019, 2019)"
      ]
     },
     "execution_count": 10,
     "metadata": {},
     "output_type": "execute_result"
    }
   ],
   "source": [
    "len(df_control), len(df_kd)"
   ]
  },
  {
   "cell_type": "code",
   "execution_count": 11,
   "metadata": {},
   "outputs": [
    {
     "data": {
      "text/html": [
       "<div>\n",
       "<style scoped>\n",
       "    .dataframe tbody tr th:only-of-type {\n",
       "        vertical-align: middle;\n",
       "    }\n",
       "\n",
       "    .dataframe tbody tr th {\n",
       "        vertical-align: top;\n",
       "    }\n",
       "\n",
       "    .dataframe thead th {\n",
       "        text-align: right;\n",
       "    }\n",
       "</style>\n",
       "<table border=\"1\" class=\"dataframe\">\n",
       "  <thead>\n",
       "    <tr style=\"text-align: right;\">\n",
       "      <th></th>\n",
       "      <th>value</th>\n",
       "    </tr>\n",
       "  </thead>\n",
       "  <tbody>\n",
       "    <tr>\n",
       "      <th>count</th>\n",
       "      <td>2019.000000</td>\n",
       "    </tr>\n",
       "    <tr>\n",
       "      <th>mean</th>\n",
       "      <td>8.288940</td>\n",
       "    </tr>\n",
       "    <tr>\n",
       "      <th>std</th>\n",
       "      <td>3.151708</td>\n",
       "    </tr>\n",
       "    <tr>\n",
       "      <th>min</th>\n",
       "      <td>3.310000</td>\n",
       "    </tr>\n",
       "    <tr>\n",
       "      <th>25%</th>\n",
       "      <td>5.595000</td>\n",
       "    </tr>\n",
       "    <tr>\n",
       "      <th>50%</th>\n",
       "      <td>7.610000</td>\n",
       "    </tr>\n",
       "    <tr>\n",
       "      <th>75%</th>\n",
       "      <td>10.795000</td>\n",
       "    </tr>\n",
       "    <tr>\n",
       "      <th>max</th>\n",
       "      <td>17.540000</td>\n",
       "    </tr>\n",
       "  </tbody>\n",
       "</table>\n",
       "</div>"
      ],
      "text/plain": [
       "             value\n",
       "count  2019.000000\n",
       "mean      8.288940\n",
       "std       3.151708\n",
       "min       3.310000\n",
       "25%       5.595000\n",
       "50%       7.610000\n",
       "75%      10.795000\n",
       "max      17.540000"
      ]
     },
     "execution_count": 11,
     "metadata": {},
     "output_type": "execute_result"
    }
   ],
   "source": [
    "df_control.describe()"
   ]
  },
  {
   "cell_type": "code",
   "execution_count": 12,
   "metadata": {},
   "outputs": [
    {
     "data": {
      "text/html": [
       "<div>\n",
       "<style scoped>\n",
       "    .dataframe tbody tr th:only-of-type {\n",
       "        vertical-align: middle;\n",
       "    }\n",
       "\n",
       "    .dataframe tbody tr th {\n",
       "        vertical-align: top;\n",
       "    }\n",
       "\n",
       "    .dataframe thead th {\n",
       "        text-align: right;\n",
       "    }\n",
       "</style>\n",
       "<table border=\"1\" class=\"dataframe\">\n",
       "  <thead>\n",
       "    <tr style=\"text-align: right;\">\n",
       "      <th></th>\n",
       "      <th>value</th>\n",
       "    </tr>\n",
       "  </thead>\n",
       "  <tbody>\n",
       "    <tr>\n",
       "      <th>count</th>\n",
       "      <td>2019.000000</td>\n",
       "    </tr>\n",
       "    <tr>\n",
       "      <th>mean</th>\n",
       "      <td>8.324889</td>\n",
       "    </tr>\n",
       "    <tr>\n",
       "      <th>std</th>\n",
       "      <td>3.169539</td>\n",
       "    </tr>\n",
       "    <tr>\n",
       "      <th>min</th>\n",
       "      <td>3.230000</td>\n",
       "    </tr>\n",
       "    <tr>\n",
       "      <th>25%</th>\n",
       "      <td>5.605000</td>\n",
       "    </tr>\n",
       "    <tr>\n",
       "      <th>50%</th>\n",
       "      <td>7.680000</td>\n",
       "    </tr>\n",
       "    <tr>\n",
       "      <th>75%</th>\n",
       "      <td>10.890000</td>\n",
       "    </tr>\n",
       "    <tr>\n",
       "      <th>max</th>\n",
       "      <td>17.480000</td>\n",
       "    </tr>\n",
       "  </tbody>\n",
       "</table>\n",
       "</div>"
      ],
      "text/plain": [
       "             value\n",
       "count  2019.000000\n",
       "mean      8.324889\n",
       "std       3.169539\n",
       "min       3.230000\n",
       "25%       5.605000\n",
       "50%       7.680000\n",
       "75%      10.890000\n",
       "max      17.480000"
      ]
     },
     "execution_count": 12,
     "metadata": {},
     "output_type": "execute_result"
    }
   ],
   "source": [
    "df_kd.describe()"
   ]
  },
  {
   "cell_type": "markdown",
   "metadata": {},
   "source": [
    "### Integracija transkriptomskih podatkov v model"
   ]
  },
  {
   "cell_type": "markdown",
   "metadata": {},
   "source": [
    "Uporabili bomo algoritem CORDA:\n",
    "\n",
    "* [https://resendislab.github.io/corda/](https://resendislab.github.io/corda/)\n",
    "* [https://github.com/resendislab/corda](https://github.com/resendislab/corda)\n",
    "\n",
    "Funkcija za rekonstrukcijo kot argument sprejme model in preslikavo `confidence`, ki za vsako reakcijo poda mero zaupanja, da je vsebovana v modelu:\n",
    "```\n",
    "Allowed confidence values are -1 (absent/do not include), 0 (unknown), 1 (low confidence), 2 (medium confidence) and 3 (high confidence).\n",
    "```\n",
    "\n",
    "`confidence` si lahko pripravimo z uporabo CORDA funkcije `reaction_confidence`, ki preslika stopnje izražanja genov (po enaki lestvici kot zgoraj) v stopnje aktivnosti reakcij z uporabo pravil GPR.\n",
    "\n",
    "\n",
    "Dodatno lahko nastavimo zmožnost modela, da producira biomaso:\n",
    "```\n",
    "met_prod (Optional[list]): Additional metabolic targets that have to be\n",
    "            achieved by the model. Can be a single object or list of objects.\n",
    "            List elements can be given in various forms:\n",
    "            (1) A string naming a metabolite in the model will ensure that the\n",
    "            metabolite can be produced.\n",
    "            For instance: met_prod = [\"pi_c\", \"atp_c\"]\n",
    "            (2) A dictionary of metabolite -> int will define an irreversible\n",
    "            reaction that must be able to carry flux.\n",
    "            For instance: met_prod = {\"adp_c\": -1, \"pi_c\": -1, \"atp_c\": 1}\n",
    "            (3) A string representation of a reversible or irreversible\n",
    "            reaction that must be able to carry flux.\n",
    "            For instance: met_prod = \"adp_c + pi_c -> atp_c\"\n",
    "\n",
    "```\n",
    "Primer priprave niza `met_prod`:\n",
    "```Python\n",
    "met_prod = model.reactions.BIOMASS_maintenance.build_reaction_string()\n",
    "met_prod = met_prod.replace(\"-->\", \"->\")\n",
    "```\n"
   ]
  },
  {
   "cell_type": "code",
   "execution_count": 13,
   "metadata": {},
   "outputs": [
    {
     "data": {
      "text/plain": [
       "'0.50563 ala__L_c + 0.35926 arg__L_c + 0.27942 asn__L_c + 0.35261 asp__L_c + 20.7045 atp_c + 0.020401 chsterol_c + 0.011658 clpn_hs_c + 0.039036 ctp_c + 0.046571 cys__L_c + 0.27519 g6p_c + 0.326 gln__L_c + 0.38587 glu__L_c + 0.53889 gly_c + 0.036117 gtp_c + 20.6508 h2o_c + 0.12641 his__L_c + 0.28608 ile__L_c + 0.54554 leu__L_c + 0.59211 lys__L_c + 0.15302 met__L_c + 0.023315 pail_hs_c + 0.15446 pchol_hs_c + 0.055374 pe_hs_c + 0.002914 pglyc_hs_c + 0.25947 phe__L_c + 0.41248 pro__L_c + 0.005829 ps_hs_c + 0.39253 ser__L_c + 0.017486 sphmyln_hs_c + 0.31269 thr__L_c + 0.013306 trp__L_c + 0.15967 tyr__L_c + 0.053446 utp_c + 0.35261 val__L_c -> 20.6508 adp_c + 20.6508 h_c + 20.6508 pi_c'"
      ]
     },
     "execution_count": 13,
     "metadata": {},
     "output_type": "execute_result"
    }
   ],
   "source": [
    "biomass = model.reactions.BIOMASS_maintenance.build_reaction_string().replace(\"-->\", \"->\")\n",
    "biomass"
   ]
  },
  {
   "cell_type": "markdown",
   "metadata": {},
   "source": [
    "### Preslikava izražanja genov v prisotnosti reakcij"
   ]
  },
  {
   "cell_type": "code",
   "execution_count": 14,
   "metadata": {},
   "outputs": [],
   "source": [
    "from corda import reaction_confidence\n",
    "from corda import CORDA"
   ]
  },
  {
   "cell_type": "markdown",
   "metadata": {},
   "source": [
    "Pomagali si bomo s funkcijo, ki bo preslikala izražanje genov v vrednosti -1, 0, 1, 2 in 3 preko vnaprej definiranih pragov."
   ]
  },
  {
   "cell_type": "code",
   "execution_count": 15,
   "metadata": {},
   "outputs": [],
   "source": [
    "def val_to_score(val, thr0, thr1, thr2, thr3):\n",
    "    if val < thr0:\n",
    "        return -1\n",
    "    elif val < thr1:\n",
    "        return 0\n",
    "    elif val < thr2:\n",
    "        return 1\n",
    "    elif val < thr3:\n",
    "        return 2\n",
    "    else:\n",
    "        return 3"
   ]
  },
  {
   "cell_type": "markdown",
   "metadata": {},
   "source": [
    "#### Parametri rekonstrukcije\n",
    "Pragove bomo definirali preko odstotne aktivnosti genov v vzrocu. Obstaja veliko različnih strategij, kako se tega problema lotiti. Nekaj več o tem si lahko preberete v [članku](https://doi.org/10.1371/journal.pcbi.1007185)."
   ]
  },
  {
   "cell_type": "code",
   "execution_count": 16,
   "metadata": {},
   "outputs": [],
   "source": [
    "require_biomass = True\n",
    "perc0 = 25 # below this ... inactive\n",
    "perc1 = 50 # else, below this ... not sure\n",
    "perc2 = 75 # else, below this ...  low confidence\n",
    "perc3 = 95 # else, below this ... medium confidence\n",
    "# else high confidence (above perc3)"
   ]
  },
  {
   "cell_type": "code",
   "execution_count": 18,
   "metadata": {},
   "outputs": [
    {
     "data": {
      "text/plain": [
       "'models'"
      ]
     },
     "execution_count": 18,
     "metadata": {},
     "output_type": "execute_result"
    }
   ],
   "source": [
    "folder = \"models\"\n",
    "folder"
   ]
  },
  {
   "cell_type": "markdown",
   "metadata": {},
   "source": [
    "### Kontrola\n",
    "Za vsako skupino bomo določili lastne pragove glede na aktivnosti genov:"
   ]
  },
  {
   "cell_type": "code",
   "execution_count": 19,
   "metadata": {},
   "outputs": [],
   "source": [
    "thr0 = np.percentile(df_control.value, perc0)\n",
    "thr1 = np.percentile(df_control.value, perc1)\n",
    "thr2 = np.percentile(df_control.value, perc2)\n",
    "thr3 = np.percentile(df_control.value, perc3)"
   ]
  },
  {
   "cell_type": "markdown",
   "metadata": {},
   "source": [
    "Najprej preslikajmo intenziteto izražanja genov v skupine:"
   ]
  },
  {
   "cell_type": "code",
   "execution_count": 20,
   "metadata": {},
   "outputs": [],
   "source": [
    "#gene_conf_control = {g_id:-1 if val < thr0 else 1 if val < thr1 else 2 if val < thr2 else 3 for (g_id, val) in zip(df_control['gene_id'], df_control['value'])}\n",
    "gene_conf_control = {g_id : val_to_score(val, thr0, thr1, thr2, thr3) for (g_id, val) in zip(df_control['gene_id'], df_control['value'])}"
   ]
  },
  {
   "cell_type": "markdown",
   "metadata": {},
   "source": [
    "Potem pa skupine genov uporabimo pri razvrščanju reakcij v skupine z uporabo CORDA funkcije `reaction_confidence`, ki pri preslikavi upošteva pravila GPR."
   ]
  },
  {
   "cell_type": "code",
   "execution_count": 21,
   "metadata": {},
   "outputs": [],
   "source": [
    "conf_control = {}\n",
    "for r in model.reactions:\n",
    "    conf_control[r.id] = reaction_confidence(r, gene_conf_control)"
   ]
  },
  {
   "cell_type": "markdown",
   "metadata": {},
   "source": [
    "Potem poženimo integracijo z algoritmom:\n",
    "\n",
    "**POZOR: časovno potratno! Spodnje celice lahko preskočiš in podatke prebereš iz datoteke (spodaj).**"
   ]
  },
  {
   "cell_type": "code",
   "execution_count": null,
   "metadata": {},
   "outputs": [],
   "source": [
    "if require_biomass:\n",
    "    opt_control = CORDA(model, conf_control, met_prod = biomass)\n",
    "else:\n",
    "    opt_control = CORDA(model, conf_control)\n",
    "opt_control.build()\n",
    "print(opt_control)"
   ]
  },
  {
   "cell_type": "markdown",
   "metadata": {},
   "source": [
    "Model pretvorimo v COBRA zapis:"
   ]
  },
  {
   "cell_type": "code",
   "execution_count": null,
   "metadata": {},
   "outputs": [],
   "source": [
    "model_control = opt_control.cobra_model()"
   ]
  },
  {
   "cell_type": "markdown",
   "metadata": {},
   "source": [
    "In mu dodajmo še biomaso:"
   ]
  },
  {
   "cell_type": "code",
   "execution_count": null,
   "metadata": {},
   "outputs": [],
   "source": [
    "if require_biomass:\n",
    "    model_control.add_reactions([model.reactions.BIOMASS_maintenance])\n",
    "    model_control.objective=model.objective"
   ]
  },
  {
   "cell_type": "markdown",
   "metadata": {},
   "source": [
    "Model lahko zdaj shranimo v SBML zapis:"
   ]
  },
  {
   "cell_type": "code",
   "execution_count": null,
   "metadata": {},
   "outputs": [],
   "source": [
    "cobra.io.write_sbml_model(model_control, os.path.join(f'{folder}','model_control.xml'))"
   ]
  },
  {
   "cell_type": "markdown",
   "metadata": {},
   "source": [
    "**Branje iz datoteke (če ste prejšnje korake preskočili).**"
   ]
  },
  {
   "cell_type": "code",
   "execution_count": 27,
   "metadata": {},
   "outputs": [],
   "source": [
    "model_control = cobra.io.read_sbml_model(os.path.join(f'{folder}','model_control.xml'))"
   ]
  },
  {
   "cell_type": "code",
   "execution_count": 28,
   "metadata": {},
   "outputs": [
    {
     "data": {
      "text/html": [
       "<h3>Objective</h3><p>1.0 BIOMASS_maintenance = 96.66582180738415</p><h4>Uptake</h4><table border=\"1\" class=\"dataframe\">\n",
       "  <thead>\n",
       "    <tr style=\"text-align: right;\">\n",
       "      <th>Metabolite</th>\n",
       "      <th>Reaction</th>\n",
       "      <th>Flux</th>\n",
       "      <th>C-Number</th>\n",
       "      <th>C-Flux</th>\n",
       "    </tr>\n",
       "  </thead>\n",
       "  <tbody>\n",
       "    <tr>\n",
       "      <td>2pg_e</td>\n",
       "      <td>EX_2pg_e</td>\n",
       "      <td>992.7</td>\n",
       "      <td>3</td>\n",
       "      <td>3.90%</td>\n",
       "    </tr>\n",
       "    <tr>\n",
       "      <td>HC00250_e</td>\n",
       "      <td>EX_HC00250_e</td>\n",
       "      <td>992.7</td>\n",
       "      <td>0</td>\n",
       "      <td>0.00%</td>\n",
       "    </tr>\n",
       "    <tr>\n",
       "      <td>asn__L_e</td>\n",
       "      <td>EX_asn__L_e</td>\n",
       "      <td>27.01</td>\n",
       "      <td>4</td>\n",
       "      <td>0.14%</td>\n",
       "    </tr>\n",
       "    <tr>\n",
       "      <td>chsterol_e</td>\n",
       "      <td>EX_chsterol_e</td>\n",
       "      <td>1.972</td>\n",
       "      <td>27</td>\n",
       "      <td>0.07%</td>\n",
       "    </tr>\n",
       "    <tr>\n",
       "      <td>crm_hs_e</td>\n",
       "      <td>EX_crm_hs_e</td>\n",
       "      <td>1.69</td>\n",
       "      <td>19</td>\n",
       "      <td>0.04%</td>\n",
       "    </tr>\n",
       "    <tr>\n",
       "      <td>fol_e</td>\n",
       "      <td>EX_fol_e</td>\n",
       "      <td>258.2</td>\n",
       "      <td>19</td>\n",
       "      <td>6.43%</td>\n",
       "    </tr>\n",
       "    <tr>\n",
       "      <td>ile__L_e</td>\n",
       "      <td>EX_ile__L_e</td>\n",
       "      <td>27.65</td>\n",
       "      <td>6</td>\n",
       "      <td>0.22%</td>\n",
       "    </tr>\n",
       "    <tr>\n",
       "      <td>imp_e</td>\n",
       "      <td>EX_imp_e</td>\n",
       "      <td>3.491</td>\n",
       "      <td>10</td>\n",
       "      <td>0.05%</td>\n",
       "    </tr>\n",
       "    <tr>\n",
       "      <td>inost_e</td>\n",
       "      <td>EX_inost_e</td>\n",
       "      <td>2.254</td>\n",
       "      <td>6</td>\n",
       "      <td>0.02%</td>\n",
       "    </tr>\n",
       "    <tr>\n",
       "      <td>leu__L_e</td>\n",
       "      <td>EX_leu__L_e</td>\n",
       "      <td>52.74</td>\n",
       "      <td>6</td>\n",
       "      <td>0.41%</td>\n",
       "    </tr>\n",
       "    <tr>\n",
       "      <td>o2_e</td>\n",
       "      <td>EX_o2_e</td>\n",
       "      <td>448</td>\n",
       "      <td>0</td>\n",
       "      <td>0.00%</td>\n",
       "    </tr>\n",
       "    <tr>\n",
       "      <td>o2s_e</td>\n",
       "      <td>EX_o2s_e</td>\n",
       "      <td>264.5</td>\n",
       "      <td>0</td>\n",
       "      <td>0.00%</td>\n",
       "    </tr>\n",
       "    <tr>\n",
       "      <td>pe_hs_e</td>\n",
       "      <td>EX_pe_hs_e</td>\n",
       "      <td>5.353</td>\n",
       "      <td>7</td>\n",
       "      <td>0.05%</td>\n",
       "    </tr>\n",
       "    <tr>\n",
       "      <td>pglyc_hs_e</td>\n",
       "      <td>EX_pglyc_hs_e</td>\n",
       "      <td>1.409</td>\n",
       "      <td>8</td>\n",
       "      <td>0.01%</td>\n",
       "    </tr>\n",
       "    <tr>\n",
       "      <td>phe__L_e</td>\n",
       "      <td>EX_phe__L_e</td>\n",
       "      <td>25.08</td>\n",
       "      <td>9</td>\n",
       "      <td>0.30%</td>\n",
       "    </tr>\n",
       "    <tr>\n",
       "      <td>pro__L_e</td>\n",
       "      <td>EX_pro__L_e</td>\n",
       "      <td>39.87</td>\n",
       "      <td>5</td>\n",
       "      <td>0.26%</td>\n",
       "    </tr>\n",
       "    <tr>\n",
       "      <td>ps_hs_e</td>\n",
       "      <td>EX_ps_hs_e</td>\n",
       "      <td>20.57</td>\n",
       "      <td>8</td>\n",
       "      <td>0.22%</td>\n",
       "    </tr>\n",
       "    <tr>\n",
       "      <td>sbt__D_e</td>\n",
       "      <td>EX_sbt__D_e</td>\n",
       "      <td>26.6</td>\n",
       "      <td>6</td>\n",
       "      <td>0.21%</td>\n",
       "    </tr>\n",
       "    <tr>\n",
       "      <td>thr__L_e</td>\n",
       "      <td>EX_thr__L_e</td>\n",
       "      <td>30.23</td>\n",
       "      <td>4</td>\n",
       "      <td>0.16%</td>\n",
       "    </tr>\n",
       "    <tr>\n",
       "      <td>trp__L_e</td>\n",
       "      <td>EX_trp__L_e</td>\n",
       "      <td>1.286</td>\n",
       "      <td>11</td>\n",
       "      <td>0.02%</td>\n",
       "    </tr>\n",
       "    <tr>\n",
       "      <td>utp_e</td>\n",
       "      <td>EX_utp_e</td>\n",
       "      <td>1000</td>\n",
       "      <td>9</td>\n",
       "      <td>11.80%</td>\n",
       "    </tr>\n",
       "    <tr>\n",
       "      <td>val__L_e</td>\n",
       "      <td>EX_val__L_e</td>\n",
       "      <td>34.09</td>\n",
       "      <td>5</td>\n",
       "      <td>0.22%</td>\n",
       "    </tr>\n",
       "    <tr>\n",
       "      <td>ala__L_c</td>\n",
       "      <td>SK_ala__L_c</td>\n",
       "      <td>48.88</td>\n",
       "      <td>3</td>\n",
       "      <td>0.19%</td>\n",
       "    </tr>\n",
       "    <tr>\n",
       "      <td>arg__L_c</td>\n",
       "      <td>SK_arg__L_c</td>\n",
       "      <td>34.73</td>\n",
       "      <td>6</td>\n",
       "      <td>0.27%</td>\n",
       "    </tr>\n",
       "    <tr>\n",
       "      <td>asp__L_c</td>\n",
       "      <td>SK_asp__L_c</td>\n",
       "      <td>34.09</td>\n",
       "      <td>4</td>\n",
       "      <td>0.18%</td>\n",
       "    </tr>\n",
       "    <tr>\n",
       "      <td>chol_c</td>\n",
       "      <td>SK_chol_c</td>\n",
       "      <td>16.62</td>\n",
       "      <td>5</td>\n",
       "      <td>0.11%</td>\n",
       "    </tr>\n",
       "    <tr>\n",
       "      <td>cholate_c</td>\n",
       "      <td>SK_cholate_c</td>\n",
       "      <td>533.8</td>\n",
       "      <td>24</td>\n",
       "      <td>16.80%</td>\n",
       "    </tr>\n",
       "    <tr>\n",
       "      <td>gln__L_c</td>\n",
       "      <td>SK_gln__L_c</td>\n",
       "      <td>31.51</td>\n",
       "      <td>5</td>\n",
       "      <td>0.21%</td>\n",
       "    </tr>\n",
       "    <tr>\n",
       "      <td>glu__L_c</td>\n",
       "      <td>SK_glu__L_c</td>\n",
       "      <td>37.3</td>\n",
       "      <td>5</td>\n",
       "      <td>0.24%</td>\n",
       "    </tr>\n",
       "    <tr>\n",
       "      <td>glygn2_c</td>\n",
       "      <td>SK_glygn2_c</td>\n",
       "      <td>333.3</td>\n",
       "      <td>66</td>\n",
       "      <td>28.84%</td>\n",
       "    </tr>\n",
       "    <tr>\n",
       "      <td>his__L_c</td>\n",
       "      <td>SK_his__L_c</td>\n",
       "      <td>12.22</td>\n",
       "      <td>6</td>\n",
       "      <td>0.10%</td>\n",
       "    </tr>\n",
       "    <tr>\n",
       "      <td>lys__L_c</td>\n",
       "      <td>SK_lys__L_c</td>\n",
       "      <td>57.24</td>\n",
       "      <td>6</td>\n",
       "      <td>0.45%</td>\n",
       "    </tr>\n",
       "    <tr>\n",
       "      <td>met__L_c</td>\n",
       "      <td>SK_met__L_c</td>\n",
       "      <td>14.79</td>\n",
       "      <td>5</td>\n",
       "      <td>0.10%</td>\n",
       "    </tr>\n",
       "    <tr>\n",
       "      <td>nad_c</td>\n",
       "      <td>SK_nad_c</td>\n",
       "      <td>1000</td>\n",
       "      <td>21</td>\n",
       "      <td>27.53%</td>\n",
       "    </tr>\n",
       "    <tr>\n",
       "      <td>ser__L_c</td>\n",
       "      <td>SK_ser__L_c</td>\n",
       "      <td>70.03</td>\n",
       "      <td>3</td>\n",
       "      <td>0.28%</td>\n",
       "    </tr>\n",
       "    <tr>\n",
       "      <td>tyr__L_c</td>\n",
       "      <td>SK_tyr__L_c</td>\n",
       "      <td>15.43</td>\n",
       "      <td>9</td>\n",
       "      <td>0.18%</td>\n",
       "    </tr>\n",
       "  </tbody>\n",
       "</table><h4>Secretion</h4><table border=\"1\" class=\"dataframe\">\n",
       "  <thead>\n",
       "    <tr style=\"text-align: right;\">\n",
       "      <th>Metabolite</th>\n",
       "      <th>Reaction</th>\n",
       "      <th>Flux</th>\n",
       "      <th>C-Number</th>\n",
       "      <th>C-Flux</th>\n",
       "    </tr>\n",
       "  </thead>\n",
       "  <tbody>\n",
       "    <tr>\n",
       "      <td>cysi__L_c</td>\n",
       "      <td>DM_Lcystin_c</td>\n",
       "      <td>-132.2</td>\n",
       "      <td>6</td>\n",
       "      <td>1.09%</td>\n",
       "    </tr>\n",
       "    <tr>\n",
       "      <td>dca24g_c</td>\n",
       "      <td>DM_dca24g_c</td>\n",
       "      <td>-533.8</td>\n",
       "      <td>30</td>\n",
       "      <td>22.06%</td>\n",
       "    </tr>\n",
       "    <tr>\n",
       "      <td>5mthf_e</td>\n",
       "      <td>EX_5mthf_e</td>\n",
       "      <td>-52.09</td>\n",
       "      <td>20</td>\n",
       "      <td>1.43%</td>\n",
       "    </tr>\n",
       "    <tr>\n",
       "      <td>atp_e</td>\n",
       "      <td>EX_atp_e</td>\n",
       "      <td>-994.8</td>\n",
       "      <td>10</td>\n",
       "      <td>13.70%</td>\n",
       "    </tr>\n",
       "    <tr>\n",
       "      <td>cys__L_e</td>\n",
       "      <td>EX_cys__L_e</td>\n",
       "      <td>-63.03</td>\n",
       "      <td>3</td>\n",
       "      <td>0.26%</td>\n",
       "    </tr>\n",
       "    <tr>\n",
       "      <td>dag_hs_e</td>\n",
       "      <td>EX_dag_hs_e</td>\n",
       "      <td>-1.69</td>\n",
       "      <td>5</td>\n",
       "      <td>0.01%</td>\n",
       "    </tr>\n",
       "    <tr>\n",
       "      <td>dxtrn_e</td>\n",
       "      <td>EX_dxtrn_e</td>\n",
       "      <td>-333.3</td>\n",
       "      <td>48</td>\n",
       "      <td>22.04%</td>\n",
       "    </tr>\n",
       "    <tr>\n",
       "      <td>nicrnt_e</td>\n",
       "      <td>EX_nicrnt_e</td>\n",
       "      <td>-1000</td>\n",
       "      <td>11</td>\n",
       "      <td>15.15%</td>\n",
       "    </tr>\n",
       "    <tr>\n",
       "      <td>pi_e</td>\n",
       "      <td>EX_pi_e</td>\n",
       "      <td>-1000</td>\n",
       "      <td>0</td>\n",
       "      <td>0.00%</td>\n",
       "    </tr>\n",
       "    <tr>\n",
       "      <td>udpglcur_e</td>\n",
       "      <td>EX_udpglcur_e</td>\n",
       "      <td>-466.2</td>\n",
       "      <td>15</td>\n",
       "      <td>9.63%</td>\n",
       "    </tr>\n",
       "    <tr>\n",
       "      <td>uri_e</td>\n",
       "      <td>EX_uri_e</td>\n",
       "      <td>-524.9</td>\n",
       "      <td>9</td>\n",
       "      <td>6.51%</td>\n",
       "    </tr>\n",
       "    <tr>\n",
       "      <td>cys__L_c</td>\n",
       "      <td>SK_cys__L_c</td>\n",
       "      <td>-660.7</td>\n",
       "      <td>3</td>\n",
       "      <td>2.73%</td>\n",
       "    </tr>\n",
       "    <tr>\n",
       "      <td>thf_c</td>\n",
       "      <td>SK_thf_c</td>\n",
       "      <td>-206.1</td>\n",
       "      <td>19</td>\n",
       "      <td>5.39%</td>\n",
       "    </tr>\n",
       "  </tbody>\n",
       "</table>"
      ],
      "text/plain": [
       "<cobra.summary.model_summary.ModelSummary at 0x244f53296d0>"
      ]
     },
     "execution_count": 28,
     "metadata": {},
     "output_type": "execute_result"
    }
   ],
   "source": [
    "model_control.summary()"
   ]
  },
  {
   "cell_type": "markdown",
   "metadata": {},
   "source": [
    "### Knockdown\n",
    "\n",
    "Ponovimo podoben postopek za podatke z utišanim onkogenom:"
   ]
  },
  {
   "cell_type": "code",
   "execution_count": 34,
   "metadata": {},
   "outputs": [],
   "source": [
    "thr0 = np.percentile(df_kd.value, perc0)\n",
    "thr1 = np.percentile(df_kd.value, perc1)\n",
    "thr2 = np.percentile(df_kd.value, perc2)\n",
    "thr3 = np.percentile(df_kd.value, perc3)"
   ]
  },
  {
   "cell_type": "code",
   "execution_count": null,
   "metadata": {},
   "outputs": [],
   "source": [
    "gene_conf_kd = {g_id : val_to_score(val, thr0, thr1, thr2, thr3) for (g_id, val) in zip(df_kd['gene_id'], df_kd['value'])}"
   ]
  },
  {
   "cell_type": "code",
   "execution_count": null,
   "metadata": {},
   "outputs": [],
   "source": [
    "conf_kd = {}\n",
    "for r in model.reactions:\n",
    "    conf_kd[r.id] = reaction_confidence(r, gene_conf_kd)"
   ]
  },
  {
   "cell_type": "markdown",
   "metadata": {},
   "source": [
    "**POZOR: časovno potratno! Spodnje celice lahko preskočiš in podatke prebereš iz datoteke (spodaj).**"
   ]
  },
  {
   "cell_type": "code",
   "execution_count": null,
   "metadata": {},
   "outputs": [],
   "source": [
    "if require_biomass:\n",
    "    opt_kd = CORDA(model, conf_kd, met_prod = biomass)\n",
    "else:\n",
    "    opt_kd = CORDA(model, conf_kd)\n",
    "opt_kd.build()\n",
    "print(opt_kd)"
   ]
  },
  {
   "cell_type": "code",
   "execution_count": null,
   "metadata": {},
   "outputs": [],
   "source": [
    "model_kd = opt_kd.cobra_model()"
   ]
  },
  {
   "cell_type": "code",
   "execution_count": null,
   "metadata": {},
   "outputs": [],
   "source": [
    "if require_biomass:\n",
    "    model_kd.add_reactions([model.reactions.BIOMASS_maintenance])\n",
    "    model_kd.objective=model.objective   "
   ]
  },
  {
   "cell_type": "code",
   "execution_count": null,
   "metadata": {},
   "outputs": [],
   "source": [
    "cobra.io.write_sbml_model(model_kd, os.path.join(f'{folder}','model_kd.xml'))"
   ]
  },
  {
   "cell_type": "markdown",
   "metadata": {},
   "source": [
    "**Branje iz datoteke (če ste prejšnje korake preskočili).**"
   ]
  },
  {
   "cell_type": "code",
   "execution_count": 22,
   "metadata": {},
   "outputs": [],
   "source": [
    "model_kd = cobra.io.read_sbml_model(os.path.join(f'{folder}','model_kd.xml'))"
   ]
  },
  {
   "cell_type": "code",
   "execution_count": 23,
   "metadata": {},
   "outputs": [
    {
     "data": {
      "text/html": [
       "<h3>Objective</h3><p>1.0 BIOMASS_maintenance = 127.98072303157407</p><h4>Uptake</h4><table border=\"1\" class=\"dataframe\">\n",
       "  <thead>\n",
       "    <tr style=\"text-align: right;\">\n",
       "      <th>Metabolite</th>\n",
       "      <th>Reaction</th>\n",
       "      <th>Flux</th>\n",
       "      <th>C-Number</th>\n",
       "      <th>C-Flux</th>\n",
       "    </tr>\n",
       "  </thead>\n",
       "  <tbody>\n",
       "    <tr>\n",
       "      <td>2pg_e</td>\n",
       "      <td>EX_2pg_e</td>\n",
       "      <td>1000</td>\n",
       "      <td>3</td>\n",
       "      <td>4.24%</td>\n",
       "    </tr>\n",
       "    <tr>\n",
       "      <td>5aop_e</td>\n",
       "      <td>EX_5aop_e</td>\n",
       "      <td>171.7</td>\n",
       "      <td>5</td>\n",
       "      <td>1.21%</td>\n",
       "    </tr>\n",
       "    <tr>\n",
       "      <td>HC00250_e</td>\n",
       "      <td>EX_HC00250_e</td>\n",
       "      <td>990.4</td>\n",
       "      <td>0</td>\n",
       "      <td>0.00%</td>\n",
       "    </tr>\n",
       "    <tr>\n",
       "      <td>bilirub_e</td>\n",
       "      <td>EX_bilirub_e</td>\n",
       "      <td>11.84</td>\n",
       "      <td>33</td>\n",
       "      <td>0.55%</td>\n",
       "    </tr>\n",
       "    <tr>\n",
       "      <td>chsterol_e</td>\n",
       "      <td>EX_chsterol_e</td>\n",
       "      <td>2.611</td>\n",
       "      <td>27</td>\n",
       "      <td>0.10%</td>\n",
       "    </tr>\n",
       "    <tr>\n",
       "      <td>crm_hs_e</td>\n",
       "      <td>EX_crm_hs_e</td>\n",
       "      <td>2.238</td>\n",
       "      <td>19</td>\n",
       "      <td>0.06%</td>\n",
       "    </tr>\n",
       "    <tr>\n",
       "      <td>dtmp_e</td>\n",
       "      <td>EX_dtmp_e</td>\n",
       "      <td>500</td>\n",
       "      <td>10</td>\n",
       "      <td>7.06%</td>\n",
       "    </tr>\n",
       "    <tr>\n",
       "      <td>fol_e</td>\n",
       "      <td>EX_fol_e</td>\n",
       "      <td>88.02</td>\n",
       "      <td>19</td>\n",
       "      <td>2.36%</td>\n",
       "    </tr>\n",
       "    <tr>\n",
       "      <td>glygn2_e</td>\n",
       "      <td>EX_glygn2_e</td>\n",
       "      <td>4.402</td>\n",
       "      <td>66</td>\n",
       "      <td>0.41%</td>\n",
       "    </tr>\n",
       "    <tr>\n",
       "      <td>h2o2_e</td>\n",
       "      <td>EX_h2o2_e</td>\n",
       "      <td>492.2</td>\n",
       "      <td>0</td>\n",
       "      <td>0.00%</td>\n",
       "    </tr>\n",
       "    <tr>\n",
       "      <td>h_e</td>\n",
       "      <td>EX_h_e</td>\n",
       "      <td>123.8</td>\n",
       "      <td>0</td>\n",
       "      <td>0.00%</td>\n",
       "    </tr>\n",
       "    <tr>\n",
       "      <td>imp_e</td>\n",
       "      <td>EX_imp_e</td>\n",
       "      <td>4.622</td>\n",
       "      <td>10</td>\n",
       "      <td>0.07%</td>\n",
       "    </tr>\n",
       "    <tr>\n",
       "      <td>inost_e</td>\n",
       "      <td>EX_inost_e</td>\n",
       "      <td>2.984</td>\n",
       "      <td>6</td>\n",
       "      <td>0.03%</td>\n",
       "    </tr>\n",
       "    <tr>\n",
       "      <td>o2_e</td>\n",
       "      <td>EX_o2_e</td>\n",
       "      <td>121.3</td>\n",
       "      <td>0</td>\n",
       "      <td>0.00%</td>\n",
       "    </tr>\n",
       "    <tr>\n",
       "      <td>pe_hs_e</td>\n",
       "      <td>EX_pe_hs_e</td>\n",
       "      <td>7.087</td>\n",
       "      <td>7</td>\n",
       "      <td>0.07%</td>\n",
       "    </tr>\n",
       "    <tr>\n",
       "      <td>pep_e</td>\n",
       "      <td>EX_pep_e</td>\n",
       "      <td>1000</td>\n",
       "      <td>3</td>\n",
       "      <td>4.24%</td>\n",
       "    </tr>\n",
       "    <tr>\n",
       "      <td>pglyc_hs_e</td>\n",
       "      <td>EX_pglyc_hs_e</td>\n",
       "      <td>1.865</td>\n",
       "      <td>8</td>\n",
       "      <td>0.02%</td>\n",
       "    </tr>\n",
       "    <tr>\n",
       "      <td>ps_hs_e</td>\n",
       "      <td>EX_ps_hs_e</td>\n",
       "      <td>27.23</td>\n",
       "      <td>8</td>\n",
       "      <td>0.31%</td>\n",
       "    </tr>\n",
       "    <tr>\n",
       "      <td>utp_e</td>\n",
       "      <td>EX_utp_e</td>\n",
       "      <td>1000</td>\n",
       "      <td>9</td>\n",
       "      <td>12.71%</td>\n",
       "    </tr>\n",
       "    <tr>\n",
       "      <td>arg__L_c</td>\n",
       "      <td>SK_arg__L_c</td>\n",
       "      <td>45.98</td>\n",
       "      <td>6</td>\n",
       "      <td>0.39%</td>\n",
       "    </tr>\n",
       "    <tr>\n",
       "      <td>asn__L_c</td>\n",
       "      <td>SK_asn__L_c</td>\n",
       "      <td>35.76</td>\n",
       "      <td>4</td>\n",
       "      <td>0.20%</td>\n",
       "    </tr>\n",
       "    <tr>\n",
       "      <td>asp__L_c</td>\n",
       "      <td>SK_asp__L_c</td>\n",
       "      <td>45.13</td>\n",
       "      <td>4</td>\n",
       "      <td>0.25%</td>\n",
       "    </tr>\n",
       "    <tr>\n",
       "      <td>chol_c</td>\n",
       "      <td>SK_chol_c</td>\n",
       "      <td>22.01</td>\n",
       "      <td>5</td>\n",
       "      <td>0.16%</td>\n",
       "    </tr>\n",
       "    <tr>\n",
       "      <td>gln__L_c</td>\n",
       "      <td>SK_gln__L_c</td>\n",
       "      <td>41.72</td>\n",
       "      <td>5</td>\n",
       "      <td>0.29%</td>\n",
       "    </tr>\n",
       "    <tr>\n",
       "      <td>glu__L_c</td>\n",
       "      <td>SK_glu__L_c</td>\n",
       "      <td>114.1</td>\n",
       "      <td>5</td>\n",
       "      <td>0.81%</td>\n",
       "    </tr>\n",
       "    <tr>\n",
       "      <td>gly_c</td>\n",
       "      <td>SK_gly_c</td>\n",
       "      <td>68.97</td>\n",
       "      <td>2</td>\n",
       "      <td>0.19%</td>\n",
       "    </tr>\n",
       "    <tr>\n",
       "      <td>glygn2_c</td>\n",
       "      <td>SK_glygn2_c</td>\n",
       "      <td>333.3</td>\n",
       "      <td>66</td>\n",
       "      <td>31.07%</td>\n",
       "    </tr>\n",
       "    <tr>\n",
       "      <td>his__L_c</td>\n",
       "      <td>SK_his__L_c</td>\n",
       "      <td>16.18</td>\n",
       "      <td>6</td>\n",
       "      <td>0.14%</td>\n",
       "    </tr>\n",
       "    <tr>\n",
       "      <td>ile__L_c</td>\n",
       "      <td>SK_ile__L_c</td>\n",
       "      <td>36.61</td>\n",
       "      <td>6</td>\n",
       "      <td>0.31%</td>\n",
       "    </tr>\n",
       "    <tr>\n",
       "      <td>leu__L_c</td>\n",
       "      <td>SK_leu__L_c</td>\n",
       "      <td>69.82</td>\n",
       "      <td>6</td>\n",
       "      <td>0.59%</td>\n",
       "    </tr>\n",
       "    <tr>\n",
       "      <td>lys__L_c</td>\n",
       "      <td>SK_lys__L_c</td>\n",
       "      <td>75.78</td>\n",
       "      <td>6</td>\n",
       "      <td>0.64%</td>\n",
       "    </tr>\n",
       "    <tr>\n",
       "      <td>met__L_c</td>\n",
       "      <td>SK_met__L_c</td>\n",
       "      <td>19.58</td>\n",
       "      <td>5</td>\n",
       "      <td>0.14%</td>\n",
       "    </tr>\n",
       "    <tr>\n",
       "      <td>nad_c</td>\n",
       "      <td>SK_nad_c</td>\n",
       "      <td>1000</td>\n",
       "      <td>21</td>\n",
       "      <td>29.66%</td>\n",
       "    </tr>\n",
       "    <tr>\n",
       "      <td>phe__L_c</td>\n",
       "      <td>SK_phe__L_c</td>\n",
       "      <td>33.21</td>\n",
       "      <td>9</td>\n",
       "      <td>0.42%</td>\n",
       "    </tr>\n",
       "    <tr>\n",
       "      <td>pro__L_c</td>\n",
       "      <td>SK_pro__L_c</td>\n",
       "      <td>52.79</td>\n",
       "      <td>5</td>\n",
       "      <td>0.37%</td>\n",
       "    </tr>\n",
       "    <tr>\n",
       "      <td>ser__L_c</td>\n",
       "      <td>SK_ser__L_c</td>\n",
       "      <td>23.75</td>\n",
       "      <td>3</td>\n",
       "      <td>0.10%</td>\n",
       "    </tr>\n",
       "    <tr>\n",
       "      <td>thr__L_c</td>\n",
       "      <td>SK_thr__L_c</td>\n",
       "      <td>40.02</td>\n",
       "      <td>4</td>\n",
       "      <td>0.23%</td>\n",
       "    </tr>\n",
       "    <tr>\n",
       "      <td>trp__L_c</td>\n",
       "      <td>SK_trp__L_c</td>\n",
       "      <td>1.703</td>\n",
       "      <td>11</td>\n",
       "      <td>0.03%</td>\n",
       "    </tr>\n",
       "    <tr>\n",
       "      <td>tyr__L_c</td>\n",
       "      <td>SK_tyr__L_c</td>\n",
       "      <td>20.43</td>\n",
       "      <td>9</td>\n",
       "      <td>0.26%</td>\n",
       "    </tr>\n",
       "    <tr>\n",
       "      <td>val__L_c</td>\n",
       "      <td>SK_val__L_c</td>\n",
       "      <td>45.13</td>\n",
       "      <td>5</td>\n",
       "      <td>0.32%</td>\n",
       "    </tr>\n",
       "  </tbody>\n",
       "</table><h4>Secretion</h4><table border=\"1\" class=\"dataframe\">\n",
       "  <thead>\n",
       "    <tr style=\"text-align: right;\">\n",
       "      <th>Metabolite</th>\n",
       "      <th>Reaction</th>\n",
       "      <th>Flux</th>\n",
       "      <th>C-Number</th>\n",
       "      <th>C-Flux</th>\n",
       "    </tr>\n",
       "  </thead>\n",
       "  <tbody>\n",
       "    <tr>\n",
       "      <td>cysi__L_c</td>\n",
       "      <td>DM_Lcystin_c</td>\n",
       "      <td>-492.2</td>\n",
       "      <td>6</td>\n",
       "      <td>4.48%</td>\n",
       "    </tr>\n",
       "    <tr>\n",
       "      <td>datp_m</td>\n",
       "      <td>DM_datp_m</td>\n",
       "      <td>-641</td>\n",
       "      <td>10</td>\n",
       "      <td>9.72%</td>\n",
       "    </tr>\n",
       "    <tr>\n",
       "      <td>adn_e</td>\n",
       "      <td>EX_adn_e</td>\n",
       "      <td>-352.1</td>\n",
       "      <td>10</td>\n",
       "      <td>5.34%</td>\n",
       "    </tr>\n",
       "    <tr>\n",
       "      <td>akg_e</td>\n",
       "      <td>EX_akg_e</td>\n",
       "      <td>-64.71</td>\n",
       "      <td>5</td>\n",
       "      <td>0.49%</td>\n",
       "    </tr>\n",
       "    <tr>\n",
       "      <td>bilglcur_e</td>\n",
       "      <td>EX_bilglcur_e</td>\n",
       "      <td>-11.84</td>\n",
       "      <td>39</td>\n",
       "      <td>0.70%</td>\n",
       "    </tr>\n",
       "    <tr>\n",
       "      <td>dag_hs_e</td>\n",
       "      <td>EX_dag_hs_e</td>\n",
       "      <td>-2.238</td>\n",
       "      <td>5</td>\n",
       "      <td>0.02%</td>\n",
       "    </tr>\n",
       "    <tr>\n",
       "      <td>dttp_e</td>\n",
       "      <td>EX_dttp_e</td>\n",
       "      <td>-500</td>\n",
       "      <td>10</td>\n",
       "      <td>7.58%</td>\n",
       "    </tr>\n",
       "    <tr>\n",
       "      <td>dxtrn_e</td>\n",
       "      <td>EX_dxtrn_e</td>\n",
       "      <td>-333.3</td>\n",
       "      <td>48</td>\n",
       "      <td>24.26%</td>\n",
       "    </tr>\n",
       "    <tr>\n",
       "      <td>glygn4_e</td>\n",
       "      <td>EX_glygn4_e</td>\n",
       "      <td>-4.402</td>\n",
       "      <td>18</td>\n",
       "      <td>0.12%</td>\n",
       "    </tr>\n",
       "    <tr>\n",
       "      <td>lac__L_e</td>\n",
       "      <td>EX_lac__L_e</td>\n",
       "      <td>-944.9</td>\n",
       "      <td>3</td>\n",
       "      <td>4.30%</td>\n",
       "    </tr>\n",
       "    <tr>\n",
       "      <td>nicrnt_e</td>\n",
       "      <td>EX_nicrnt_e</td>\n",
       "      <td>-1000</td>\n",
       "      <td>11</td>\n",
       "      <td>16.68%</td>\n",
       "    </tr>\n",
       "    <tr>\n",
       "      <td>pi_e</td>\n",
       "      <td>EX_pi_e</td>\n",
       "      <td>-1000</td>\n",
       "      <td>0</td>\n",
       "      <td>0.00%</td>\n",
       "    </tr>\n",
       "    <tr>\n",
       "      <td>ppbng_e</td>\n",
       "      <td>EX_ppbng_e</td>\n",
       "      <td>-85.87</td>\n",
       "      <td>10</td>\n",
       "      <td>1.30%</td>\n",
       "    </tr>\n",
       "    <tr>\n",
       "      <td>udpglcur_e</td>\n",
       "      <td>EX_udpglcur_e</td>\n",
       "      <td>-988.2</td>\n",
       "      <td>15</td>\n",
       "      <td>22.48%</td>\n",
       "    </tr>\n",
       "    <tr>\n",
       "      <td>thf_c</td>\n",
       "      <td>SK_thf_c</td>\n",
       "      <td>-88.02</td>\n",
       "      <td>19</td>\n",
       "      <td>2.54%</td>\n",
       "    </tr>\n",
       "  </tbody>\n",
       "</table>"
      ],
      "text/plain": [
       "<cobra.summary.model_summary.ModelSummary at 0x27d5464fb50>"
      ]
     },
     "execution_count": 23,
     "metadata": {},
     "output_type": "execute_result"
    }
   ],
   "source": [
    "model_kd.summary()"
   ]
  },
  {
   "cell_type": "code",
   "execution_count": null,
   "metadata": {},
   "outputs": [],
   "source": []
  }
 ],
 "metadata": {
  "kernelspec": {
   "display_name": "metabolic",
   "language": "python",
   "name": "metabolic"
  },
  "language_info": {
   "codemirror_mode": {
    "name": "ipython",
    "version": 3
   },
   "file_extension": ".py",
   "mimetype": "text/x-python",
   "name": "python",
   "nbconvert_exporter": "python",
   "pygments_lexer": "ipython3",
   "version": "3.11.0"
  }
 },
 "nbformat": 4,
 "nbformat_minor": 4
}
