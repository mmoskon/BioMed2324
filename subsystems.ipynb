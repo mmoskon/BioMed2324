{
 "cells": [
  {
   "cell_type": "markdown",
   "metadata": {},
   "source": [
    "# Get subsystems\n",
    "Recon3D does not inlcude reaction subsystems in xml version. mat version does include this information, however, it is time consuming to load in Python. We can prepare the subsystem information separately."
   ]
  },
  {
   "cell_type": "code",
   "execution_count": 1,
   "metadata": {},
   "outputs": [],
   "source": [
    "import cobra\n",
    "import pandas"
   ]
  },
  {
   "cell_type": "code",
   "execution_count": null,
   "metadata": {},
   "outputs": [],
   "source": [
    "model_mat = cobra.io.load_matlab_model('models\\\\Recon3D.mat')"
   ]
  },
  {
   "cell_type": "code",
   "execution_count": null,
   "metadata": {},
   "outputs": [],
   "source": [
    "reactions_subsystems = {}\n",
    "for r in model_mat.reactions:\n",
    "    reactions_subsystems[r.id] = r.subsystem"
   ]
  },
  {
   "cell_type": "code",
   "execution_count": null,
   "metadata": {},
   "outputs": [],
   "source": [
    "df_subsystems = pd.DataFrame()\n",
    "df_subsystems['subsystem'] = reactions_subsystems.values()\n",
    "df_subsystems['reaction'] = reactions_subsystems.keys()\n",
    "df_subsystems.to_csv('models\\\\subsystems.csv', index=False)"
   ]
  }
 ],
 "metadata": {
  "kernelspec": {
   "display_name": "metabolic",
   "language": "python",
   "name": "metabolic"
  },
  "language_info": {
   "codemirror_mode": {
    "name": "ipython",
    "version": 3
   },
   "file_extension": ".py",
   "mimetype": "text/x-python",
   "name": "python",
   "nbconvert_exporter": "python",
   "pygments_lexer": "ipython3",
   "version": "3.11.0"
  }
 },
 "nbformat": 4,
 "nbformat_minor": 4
}
