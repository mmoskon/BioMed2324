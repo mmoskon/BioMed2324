{
 "cells": [
  {
   "cell_type": "markdown",
   "metadata": {},
   "source": [
    "# Analiza obogatenosti metabolnih podsistemov\n",
    "\n",
    "## Hipergeometrični test\n",
    "Hipergeometrični test temelji na hipergeometrični porazdelitvi - gre za diskrentno verjetnostno porazdelitev, ki opisuje verjetnost, da v končni populaciji velikosti N z natančno K objekti v n poskusih k-krat izberemo enega izmed K objektov brez zamenjave (objekta po končanem poskusu ne vrnemo v vzorec).\n",
    "\n",
    "Za razliko od hipergeometrične porazdelitve, binomska porazdelitev opisuje verjetnost k uspešnih izidov v populaciji velikosti n z zamenjavo.\n",
    "\n",
    "Uporaba hipergeometričnega testa:\n",
    "$$P(x \\geq k) = 1 - hypergeom.cdf(k-1, M, n, N)$$\n",
    "\n",
    "* k: število diferenčno izraženih reakcij v podsistemu,\n",
    "* n: število diferenčno izraženih reakcij v modelu,\n",
    "* N: število reakcij v podsistemu,\n",
    "* M: število reakcij v modelu."
   ]
  },
  {
   "cell_type": "code",
   "execution_count": 1,
   "metadata": {},
   "outputs": [],
   "source": [
    "import pandas as pd\n",
    "import numpy as np\n",
    "\n",
    "from scipy.stats import hypergeom\n",
    "#import statsmodels.stats.multitest as multi\n",
    "from helpers import bh\n",
    "\n",
    "import cobra\n",
    "\n",
    "import os.path\n"
   ]
  },
  {
   "cell_type": "markdown",
   "metadata": {},
   "source": [
    "## Osnovne nastavitve"
   ]
  },
  {
   "cell_type": "code",
   "execution_count": 2,
   "metadata": {},
   "outputs": [],
   "source": [
    "folder_enrich = 'enrichment'"
   ]
  },
  {
   "cell_type": "markdown",
   "metadata": {},
   "source": [
    "## Podatki o podsistemih\n",
    "SBML predstavitev modela Recon3D ne vsebuje podatkov o podsistemih. Pridobimo jih lahko preko `mat` (Matlab) zapisa modela (glej zakomentirano kodo spodaj)."
   ]
  },
  {
   "cell_type": "code",
   "execution_count": 3,
   "metadata": {},
   "outputs": [],
   "source": [
    "#model = cobra.io.read_sbml_model('models\\\\Recon3D.xml')"
   ]
  },
  {
   "cell_type": "code",
   "execution_count": 4,
   "metadata": {},
   "outputs": [],
   "source": [
    "#model_mat = cobra.io.load_matlab_model('models\\\\Recon3D.mat')"
   ]
  },
  {
   "cell_type": "code",
   "execution_count": 5,
   "metadata": {},
   "outputs": [],
   "source": [
    "#reactions_subsystems = {}\n",
    "#for r in model_mat.reactions:\n",
    "#    reactions_subsystems[r.id] = r.subsystem"
   ]
  },
  {
   "cell_type": "code",
   "execution_count": 6,
   "metadata": {},
   "outputs": [],
   "source": [
    "#df_subsystems = pd.DataFrame()\n",
    "#df_subsystems['subsystem'] = reactions_subsystems.values()\n",
    "#df_subsystems['reaction'] = reactions_subsystems.keys()\n",
    "#df_subsystems.to_csv('models\\\\subsystems.csv', index=False)"
   ]
  },
  {
   "cell_type": "markdown",
   "metadata": {},
   "source": [
    "Podatke o podsistemih smo si pripravili v ločeni datoteki:"
   ]
  },
  {
   "cell_type": "code",
   "execution_count": 7,
   "metadata": {},
   "outputs": [
    {
     "data": {
      "text/html": [
       "<div>\n",
       "<style scoped>\n",
       "    .dataframe tbody tr th:only-of-type {\n",
       "        vertical-align: middle;\n",
       "    }\n",
       "\n",
       "    .dataframe tbody tr th {\n",
       "        vertical-align: top;\n",
       "    }\n",
       "\n",
       "    .dataframe thead th {\n",
       "        text-align: right;\n",
       "    }\n",
       "</style>\n",
       "<table border=\"1\" class=\"dataframe\">\n",
       "  <thead>\n",
       "    <tr style=\"text-align: right;\">\n",
       "      <th></th>\n",
       "      <th>subsystem</th>\n",
       "      <th>reaction</th>\n",
       "    </tr>\n",
       "  </thead>\n",
       "  <tbody>\n",
       "    <tr>\n",
       "      <th>0</th>\n",
       "      <td>Transport, mitochondrial</td>\n",
       "      <td>24_25DHVITD3tm</td>\n",
       "    </tr>\n",
       "    <tr>\n",
       "      <th>1</th>\n",
       "      <td>Transport, extracellular</td>\n",
       "      <td>25HVITD3t</td>\n",
       "    </tr>\n",
       "    <tr>\n",
       "      <th>2</th>\n",
       "      <td>Transport, lysosomal</td>\n",
       "      <td>COAtl</td>\n",
       "    </tr>\n",
       "    <tr>\n",
       "      <th>3</th>\n",
       "      <td>Extracellular exchange</td>\n",
       "      <td>EX_5adtststerone_e</td>\n",
       "    </tr>\n",
       "    <tr>\n",
       "      <th>4</th>\n",
       "      <td>Extracellular exchange</td>\n",
       "      <td>EX_5adtststerones_e</td>\n",
       "    </tr>\n",
       "  </tbody>\n",
       "</table>\n",
       "</div>"
      ],
      "text/plain": [
       "                  subsystem             reaction\n",
       "0  Transport, mitochondrial       24_25DHVITD3tm\n",
       "1  Transport, extracellular            25HVITD3t\n",
       "2      Transport, lysosomal                COAtl\n",
       "3    Extracellular exchange   EX_5adtststerone_e\n",
       "4    Extracellular exchange  EX_5adtststerones_e"
      ]
     },
     "execution_count": 7,
     "metadata": {},
     "output_type": "execute_result"
    }
   ],
   "source": [
    "df_subsystems = pd.read_csv(os.path.join('models','subsystems.csv'))\n",
    "subsystems = df_subsystems.subsystem.unique()\n",
    "df_subsystems.head()"
   ]
  },
  {
   "cell_type": "markdown",
   "metadata": {},
   "source": [
    "Podatki o diferenčni aktivnosti reakcij:"
   ]
  },
  {
   "cell_type": "code",
   "execution_count": 8,
   "metadata": {},
   "outputs": [
    {
     "data": {
      "text/plain": [
       "'enrichment'"
      ]
     },
     "execution_count": 8,
     "metadata": {},
     "output_type": "execute_result"
    }
   ],
   "source": [
    "folder_enrich"
   ]
  },
  {
   "cell_type": "code",
   "execution_count": 9,
   "metadata": {},
   "outputs": [],
   "source": [
    "df_reactions = pd.read_csv(os.path.join(f'{folder_enrich}','reactions.csv'))"
   ]
  },
  {
   "cell_type": "markdown",
   "metadata": {},
   "source": [
    "## Hipergeometrični test\n",
    "Gremo čez podsisteme in izračunamo p-vrednosti:"
   ]
  },
  {
   "cell_type": "code",
   "execution_count": 10,
   "metadata": {},
   "outputs": [],
   "source": [
    "df_enrichment = pd.DataFrame(columns=[\"subsystem\", \"p_up\", \"p_down\", \"q_up\", \"q_down\", \"enrichment\", \"p_changed\", \"q_changed\", \"changed\"])\n",
    "df_enrichment[\"subsystem\"] = subsystems\n",
    "\n",
    "M = len(df_reactions) # number of different reactions in pairs of models\n",
    "n_up = sum(df_reactions.enrichment == 1) # number of upregulated reactions in models\n",
    "n_down = sum(df_reactions.enrichment == -1)  # number of downregulated reactions in models\n",
    "n_changed = sum(df_reactions.changed == 1)  # number of changed reactions in models\n",
    "\n",
    "for subsystem in subsystems:\n",
    "    subsystem_reactions = df_subsystems.loc[df_subsystems.subsystem == subsystem,'reaction'].values\n",
    "    df_sub = df_reactions[df_reactions['reaction'].isin(subsystem_reactions)]\n",
    "        \n",
    "    #if not take_all:\n",
    "    # option 1: take only remaining reactions\n",
    "    N = len(df_sub) # number of reactions in a subsystem\n",
    "    #else:\n",
    "    #    # option 2: take all reactions from the original model\n",
    "    #    N = len(df_subs[df_subs.subsystem == subsystem])\n",
    "    k_up = sum(df_sub.enrichment == 1)# number of upregulated reactions in a subsystem\n",
    "    k_down = sum(df_sub.enrichment == -1)# number of downregulated reactions in a subsystem\n",
    "    k_changed = sum(df_sub.changed == 1)# number of changed reactions in a subsystem\n",
    "    \n",
    "    if n_up:         \n",
    "        p_up = 1 - hypergeom.cdf(k_up-1, M, n_up, N)                \n",
    "    else:\n",
    "        p_up = 1.0\n",
    "        \n",
    "    if n_down:         \n",
    "        p_down = 1 - hypergeom.cdf(k_down-1, M, n_down, N)                \n",
    "    else:\n",
    "        p_down = 1.0\n",
    "        \n",
    "    if n_changed:\n",
    "        p_changed = 1 - hypergeom.cdf(k_changed, M, n_changed, N)                \n",
    "    else:\n",
    "        p_changed = 1\n",
    "        \n",
    "    df_enrichment.loc[df_enrichment[\"subsystem\"] == subsystem, 'p_up'] = p_up\n",
    "    df_enrichment.loc[df_enrichment[\"subsystem\"] == subsystem, 'p_down'] = p_down\n",
    "    df_enrichment.loc[df_enrichment[\"subsystem\"] == subsystem, 'p_changed'] = p_changed\n",
    "    \n",
    "\n",
    "    \n",
    "df_enrichment['q_up'] = bh(df_enrichment['p_up'])\n",
    "df_enrichment['q_down'] = bh(df_enrichment['p_down'])\n",
    "df_enrichment['q_changed'] = bh(df_enrichment['p_changed'])\n",
    "\n",
    "    \n",
    "df_enrichment.loc[(df_enrichment['q_up']<0.05) & (df_enrichment['q_up']<df_enrichment['q_down']),'enrichment'] = 1\n",
    "df_enrichment.loc[(df_enrichment['q_down']<0.05) & (df_enrichment['q_down']<=df_enrichment['q_up']),'enrichment'] = -1\n",
    "df_enrichment.loc[(df_enrichment['q_changed']<0.05),'changed'] = 1\n",
    "\n",
    "df_enrichment = df_enrichment.fillna(0)\n",
    "\n",
    "\n"
   ]
  },
  {
   "cell_type": "code",
   "execution_count": 11,
   "metadata": {},
   "outputs": [
    {
     "data": {
      "text/html": [
       "<div>\n",
       "<style scoped>\n",
       "    .dataframe tbody tr th:only-of-type {\n",
       "        vertical-align: middle;\n",
       "    }\n",
       "\n",
       "    .dataframe tbody tr th {\n",
       "        vertical-align: top;\n",
       "    }\n",
       "\n",
       "    .dataframe thead th {\n",
       "        text-align: right;\n",
       "    }\n",
       "</style>\n",
       "<table border=\"1\" class=\"dataframe\">\n",
       "  <thead>\n",
       "    <tr style=\"text-align: right;\">\n",
       "      <th></th>\n",
       "      <th>subsystem</th>\n",
       "      <th>p_up</th>\n",
       "      <th>p_down</th>\n",
       "      <th>q_up</th>\n",
       "      <th>q_down</th>\n",
       "      <th>enrichment</th>\n",
       "      <th>p_changed</th>\n",
       "      <th>q_changed</th>\n",
       "      <th>changed</th>\n",
       "    </tr>\n",
       "  </thead>\n",
       "  <tbody>\n",
       "    <tr>\n",
       "      <th>0</th>\n",
       "      <td>Transport, mitochondrial</td>\n",
       "      <td>0.082856</td>\n",
       "      <td>7.216450e-15</td>\n",
       "      <td>1.0</td>\n",
       "      <td>7.649437e-13</td>\n",
       "      <td>-1</td>\n",
       "      <td>1.110223e-16</td>\n",
       "      <td>3.017529e-16</td>\n",
       "      <td>1</td>\n",
       "    </tr>\n",
       "    <tr>\n",
       "      <th>1</th>\n",
       "      <td>Transport, extracellular</td>\n",
       "      <td>0.994937</td>\n",
       "      <td>1.014140e-02</td>\n",
       "      <td>1.0</td>\n",
       "      <td>1.343735e-01</td>\n",
       "      <td>0</td>\n",
       "      <td>5.991081e-01</td>\n",
       "      <td>8.820203e-01</td>\n",
       "      <td>0</td>\n",
       "    </tr>\n",
       "    <tr>\n",
       "      <th>2</th>\n",
       "      <td>Transport, lysosomal</td>\n",
       "      <td>0.996900</td>\n",
       "      <td>9.905330e-01</td>\n",
       "      <td>1.0</td>\n",
       "      <td>1.000000e+00</td>\n",
       "      <td>0</td>\n",
       "      <td>9.996529e-01</td>\n",
       "      <td>1.000000e+00</td>\n",
       "      <td>0</td>\n",
       "    </tr>\n",
       "    <tr>\n",
       "      <th>3</th>\n",
       "      <td>Extracellular exchange</td>\n",
       "      <td>0.774975</td>\n",
       "      <td>5.253968e-01</td>\n",
       "      <td>1.0</td>\n",
       "      <td>1.000000e+00</td>\n",
       "      <td>0</td>\n",
       "      <td>6.989023e-01</td>\n",
       "      <td>9.497903e-01</td>\n",
       "      <td>0</td>\n",
       "    </tr>\n",
       "    <tr>\n",
       "      <th>4</th>\n",
       "      <td>Vitamin D metabolism</td>\n",
       "      <td>1.000000</td>\n",
       "      <td>4.268018e-03</td>\n",
       "      <td>1.0</td>\n",
       "      <td>7.540165e-02</td>\n",
       "      <td>0</td>\n",
       "      <td>0.000000e+00</td>\n",
       "      <td>0.000000e+00</td>\n",
       "      <td>1</td>\n",
       "    </tr>\n",
       "    <tr>\n",
       "      <th>...</th>\n",
       "      <td>...</td>\n",
       "      <td>...</td>\n",
       "      <td>...</td>\n",
       "      <td>...</td>\n",
       "      <td>...</td>\n",
       "      <td>...</td>\n",
       "      <td>...</td>\n",
       "      <td>...</td>\n",
       "      <td>...</td>\n",
       "    </tr>\n",
       "    <tr>\n",
       "      <th>101</th>\n",
       "      <td>N-glycan metabolism</td>\n",
       "      <td>1.000000</td>\n",
       "      <td>1.000000e+00</td>\n",
       "      <td>1.0</td>\n",
       "      <td>1.000000e+00</td>\n",
       "      <td>0</td>\n",
       "      <td>0.000000e+00</td>\n",
       "      <td>0.000000e+00</td>\n",
       "      <td>1</td>\n",
       "    </tr>\n",
       "    <tr>\n",
       "      <th>102</th>\n",
       "      <td>Drug metabolism</td>\n",
       "      <td>0.999996</td>\n",
       "      <td>8.905921e-01</td>\n",
       "      <td>1.0</td>\n",
       "      <td>1.000000e+00</td>\n",
       "      <td>0</td>\n",
       "      <td>9.999275e-01</td>\n",
       "      <td>1.000000e+00</td>\n",
       "      <td>0</td>\n",
       "    </tr>\n",
       "    <tr>\n",
       "      <th>103</th>\n",
       "      <td>Protein formation</td>\n",
       "      <td>1.000000</td>\n",
       "      <td>1.625767e-01</td>\n",
       "      <td>1.0</td>\n",
       "      <td>1.000000e+00</td>\n",
       "      <td>0</td>\n",
       "      <td>0.000000e+00</td>\n",
       "      <td>0.000000e+00</td>\n",
       "      <td>1</td>\n",
       "    </tr>\n",
       "    <tr>\n",
       "      <th>104</th>\n",
       "      <td>Vitamin B12 metabolism</td>\n",
       "      <td>1.000000</td>\n",
       "      <td>1.000000e+00</td>\n",
       "      <td>1.0</td>\n",
       "      <td>1.000000e+00</td>\n",
       "      <td>0</td>\n",
       "      <td>0.000000e+00</td>\n",
       "      <td>0.000000e+00</td>\n",
       "      <td>1</td>\n",
       "    </tr>\n",
       "    <tr>\n",
       "      <th>105</th>\n",
       "      <td>Lipoate metabolism</td>\n",
       "      <td>1.000000</td>\n",
       "      <td>1.000000e+00</td>\n",
       "      <td>1.0</td>\n",
       "      <td>1.000000e+00</td>\n",
       "      <td>0</td>\n",
       "      <td>3.952673e-01</td>\n",
       "      <td>6.253483e-01</td>\n",
       "      <td>0</td>\n",
       "    </tr>\n",
       "  </tbody>\n",
       "</table>\n",
       "<p>106 rows × 9 columns</p>\n",
       "</div>"
      ],
      "text/plain": [
       "                    subsystem      p_up        p_down  q_up        q_down  \\\n",
       "0    Transport, mitochondrial  0.082856  7.216450e-15   1.0  7.649437e-13   \n",
       "1    Transport, extracellular  0.994937  1.014140e-02   1.0  1.343735e-01   \n",
       "2        Transport, lysosomal  0.996900  9.905330e-01   1.0  1.000000e+00   \n",
       "3      Extracellular exchange  0.774975  5.253968e-01   1.0  1.000000e+00   \n",
       "4        Vitamin D metabolism  1.000000  4.268018e-03   1.0  7.540165e-02   \n",
       "..                        ...       ...           ...   ...           ...   \n",
       "101       N-glycan metabolism  1.000000  1.000000e+00   1.0  1.000000e+00   \n",
       "102           Drug metabolism  0.999996  8.905921e-01   1.0  1.000000e+00   \n",
       "103         Protein formation  1.000000  1.625767e-01   1.0  1.000000e+00   \n",
       "104    Vitamin B12 metabolism  1.000000  1.000000e+00   1.0  1.000000e+00   \n",
       "105        Lipoate metabolism  1.000000  1.000000e+00   1.0  1.000000e+00   \n",
       "\n",
       "     enrichment     p_changed     q_changed  changed  \n",
       "0            -1  1.110223e-16  3.017529e-16        1  \n",
       "1             0  5.991081e-01  8.820203e-01        0  \n",
       "2             0  9.996529e-01  1.000000e+00        0  \n",
       "3             0  6.989023e-01  9.497903e-01        0  \n",
       "4             0  0.000000e+00  0.000000e+00        1  \n",
       "..          ...           ...           ...      ...  \n",
       "101           0  0.000000e+00  0.000000e+00        1  \n",
       "102           0  9.999275e-01  1.000000e+00        0  \n",
       "103           0  0.000000e+00  0.000000e+00        1  \n",
       "104           0  0.000000e+00  0.000000e+00        1  \n",
       "105           0  3.952673e-01  6.253483e-01        0  \n",
       "\n",
       "[106 rows x 9 columns]"
      ]
     },
     "execution_count": 11,
     "metadata": {},
     "output_type": "execute_result"
    }
   ],
   "source": [
    "df_enrichment"
   ]
  },
  {
   "cell_type": "code",
   "execution_count": 12,
   "metadata": {},
   "outputs": [],
   "source": [
    "df_enrichment.to_csv(f\"{folder_enrich}\\\\subsystems.csv\", index=False)"
   ]
  },
  {
   "cell_type": "code",
   "execution_count": null,
   "metadata": {},
   "outputs": [],
   "source": []
  }
 ],
 "metadata": {
  "kernelspec": {
   "display_name": "metabolic",
   "language": "python",
   "name": "metabolic"
  },
  "language_info": {
   "codemirror_mode": {
    "name": "ipython",
    "version": 3
   },
   "file_extension": ".py",
   "mimetype": "text/x-python",
   "name": "python",
   "nbconvert_exporter": "python",
   "pygments_lexer": "ipython3",
   "version": "3.11.0"
  }
 },
 "nbformat": 4,
 "nbformat_minor": 4
}
